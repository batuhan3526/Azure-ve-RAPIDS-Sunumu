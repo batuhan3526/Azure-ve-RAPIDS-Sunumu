{
 "cells": [
  {
   "cell_type": "code",
   "execution_count": 1,
   "metadata": {},
   "outputs": [],
   "source": [
    "import os\n",
    "GPU_id = 1\n",
    "os.environ['CUDA_VISIBLE_DEVICES'] = str(GPU_id)"
   ]
  },
  {
   "cell_type": "code",
   "execution_count": 2,
   "metadata": {},
   "outputs": [],
   "source": [
    "import cudf as gd\n",
    "import pandas as pd\n",
    "import numpy as np\n",
    "import time\n",
    "from collections import OrderedDict,Counter\n",
    "from nvstring_workaround import on_gpu\n",
    "from sklearn.model_selection import KFold\n",
    "import xgboost as xgb\n",
    "import warnings\n",
    "\n",
    "warnings.filterwarnings(\"ignore\")\n",
    "%matplotlib inline"
   ]
  },
  {
   "cell_type": "markdown",
   "metadata": {},
   "source": [
    "## This notebook contains a rapids solution to achieve 0.695 private LB in 12 minutes"
   ]
  },
  {
   "cell_type": "markdown",
   "metadata": {},
   "source": [
    "### Functions"
   ]
  },
  {
   "cell_type": "code",
   "execution_count": 3,
   "metadata": {},
   "outputs": [],
   "source": [
    "def rm_cols(gdf,cols):\n",
    "    gcols = [i for i in gdf.columns]\n",
    "    for col in cols:\n",
    "        if col in gcols:\n",
    "            gdf.drop_column(col)\n",
    "    return gdf\n",
    "\n",
    "def reset_col_dtype(gtr,gte):\n",
    "    for col in gtr.columns:\n",
    "        a,b = str(gtr[col].dtype),str(gte[col].dtype)\n",
    "        if a!=b:\n",
    "            gtr[col] = gtr[col].astype('float32')\n",
    "            gte[col] = gte[col].astype('float32')\n",
    "    return gtr,gte\n",
    "\n",
    "def count_encode(df,cols):\n",
    "    df['idx'] = np.arange(len(df))\n",
    "    for col in cols:\n",
    "        df[col] = df[col].fillna(-999)\n",
    "        dg = df.groupby(col).agg({col:'count'})\n",
    "        dg.columns = ['count_%s'%col]\n",
    "        dg = dg.reset_index()\n",
    "        df = df.merge(dg,on=[col],how='left')\n",
    "        df.drop_column(col)\n",
    "    df = df.sort_values(by='idx')\n",
    "    df.drop_column('idx')\n",
    "    df = rm_cols(df,[i for i in df.columns if i.startswith('count_')==0])\n",
    "    return df\n",
    "\n",
    "def count_encode_cpu(df,cols):\n",
    "    for col in cols:\n",
    "        dg = df.groupby(col).agg({col:'count'})\n",
    "        dg.columns = ['count_%s'%col]\n",
    "        df = df.merge(dg.reset_index(),on=[col],how='left')\n",
    "    return df[[i for i in df.columns if i.startswith('count_')]]"
   ]
  },
  {
   "cell_type": "code",
   "execution_count": 4,
   "metadata": {},
   "outputs": [],
   "source": [
    "def mtr(tr,col,te):\n",
    "    tr[col] = tr[col].fillna(-999)\n",
    "    tr[YCOL] = tr[YCOL].astype('float32')\n",
    "    dg = tr.groupby(col).agg({YCOL:'mean'})\n",
    "    dg.columns = ['mtr_%s'%col]\n",
    "    dg = dg.reset_index()\n",
    "    te = te.merge(dg,on=[col],how='left')\n",
    "    del dg\n",
    "    return te\n",
    "\n",
    "def mtr_encode(tr,te,cols):\n",
    "    tr['idx'] = np.arange(len(tr))\n",
    "    tr['random'] = np.random.random(len(tr))\n",
    "    tr = tr.sort_values(by='random')\n",
    "    tr.drop_column('random')\n",
    "    N = len(tr)//2\n",
    "    tr1 = tr[:N]\n",
    "    tr2 = tr[N:]\n",
    "    te['idx'] = np.arange(len(te))\n",
    "    for col in cols:\n",
    "        if col not in tr.columns:\n",
    "            continue\n",
    "        tr2 = mtr(tr1,col,tr2)\n",
    "        tr1 = mtr(tr2,col,tr1)\n",
    "        te = mtr(tr,col,te)\n",
    "    if len(tr1.columns)!=len(tr2.columns):\n",
    "        del tr1,tr2\n",
    "        return rm_cols(tr,[i for i in tr.columns]),rm_cols(te,[i for i in te.columns])\n",
    "    del tr\n",
    "    tr = gd.concat([tr1,tr2])\n",
    "    tr = tr.sort_values(by='idx')\n",
    "    tr = rm_cols(tr,[i for i in tr.columns if i.startswith('mtr_')==0])\n",
    "    del tr1,tr2\n",
    "    te = te.sort_values(by='idx')\n",
    "    te = rm_cols(te,[i for i in te.columns if i.startswith('mtr_')==0])\n",
    "    return tr,te"
   ]
  },
  {
   "cell_type": "code",
   "execution_count": 5,
   "metadata": {},
   "outputs": [],
   "source": [
    "def mtr_cpu(tr,col,te):\n",
    "    dg = tr.groupby(col).agg({YCOL:'mean'})\n",
    "    dg.columns = ['mtr_%s'%col]\n",
    "    te = te.merge(dg.reset_index(),on=[col],how='left')\n",
    "    del dg\n",
    "    return te\n",
    "\n",
    "def mtr_encode_cpu(tr,te,cols):\n",
    "    tr['idx'] = np.arange(len(tr))\n",
    "    tr['random'] = np.random.random(len(tr))\n",
    "    tr = tr.sort_values(by='random')\n",
    "    tr.drop('random',axis=1,inplace=True)\n",
    "    N = len(tr)//2\n",
    "    tr1 = tr[:N]\n",
    "    tr2 = tr[N:]\n",
    "    te['idx'] = np.arange(len(te))\n",
    "    for col in cols:\n",
    "        if col not in tr.columns:\n",
    "            continue\n",
    "        tr2 = mtr_cpu(tr1,col,tr2)\n",
    "        tr1 = mtr_cpu(tr2,col,tr1)\n",
    "        te = mtr_cpu(tr,col,te)\n",
    "    del tr\n",
    "    tr = pd.concat([tr1,tr2],axis=0).reset_index(drop=True)\n",
    "    tr = tr.sort_values(by='idx')\n",
    "    cols = [i for i in tr.columns if i.startswith('mtr_')]\n",
    "    tr = tr[cols]\n",
    "    del tr1,tr2\n",
    "    te = te.sort_values(by='idx')\n",
    "    te = te[cols]\n",
    "    return tr,te"
   ]
  },
  {
   "cell_type": "markdown",
   "metadata": {},
   "source": [
    "### Read data & label encode"
   ]
  },
  {
   "cell_type": "code",
   "execution_count": 6,
   "metadata": {},
   "outputs": [],
   "source": [
    "timing_gpu={}\n",
    "timing_cpu={}"
   ]
  },
  {
   "cell_type": "markdown",
   "metadata": {},
   "source": [
    "#### GPU"
   ]
  },
  {
   "cell_type": "code",
   "execution_count": 7,
   "metadata": {},
   "outputs": [
    {
     "name": "stdout",
     "output_type": "stream",
     "text": [
      "CPU times: user 10.1 s, sys: 5.04 s, total: 15.1 s\n",
      "Wall time: 15.1 s\n"
     ]
    }
   ],
   "source": [
    "%%time\n",
    "start = time.time()\n",
    "step = \"read data & label encode\"\n",
    "\n",
    "IDCOL = 'MachineIdentifier'\n",
    "YCOL = 'HasDetections'\n",
    "\n",
    "PATH = '.'\n",
    "tr_path = '%s/train.csv'%PATH\n",
    "te_path = '%s/test.csv'%PATH\n",
    "gtr = gd.read_csv(tr_path)\n",
    "gte = gd.read_csv(te_path)\n",
    "\n",
    "for col in gtr.columns:\n",
    "    if gtr[col].dtype=='object':\n",
    "        gtr[col] = gtr[col].hash_values()\n",
    "for col in gte.columns:\n",
    "    if gte[col].dtype=='object':\n",
    "        gte[col] = gte[col].hash_values()   \n",
    "\n",
    "timing_gpu[step] = time.time()-start"
   ]
  },
  {
   "cell_type": "markdown",
   "metadata": {},
   "source": [
    "#### CPU"
   ]
  },
  {
   "cell_type": "code",
   "execution_count": 8,
   "metadata": {},
   "outputs": [
    {
     "name": "stdout",
     "output_type": "stream",
     "text": [
      "AppVersion done\n",
      "AvSigVersion done\n",
      "Census_ActivationChannel done\n",
      "Census_ChassisTypeName done\n",
      "Census_DeviceFamily done\n",
      "Census_FlightRing done\n",
      "Census_GenuineStateName done\n",
      "Census_InternalBatteryType done\n",
      "Census_MDC2FormFactor done\n",
      "Census_OSArchitecture done\n",
      "Census_OSBranch done\n",
      "Census_OSEdition done\n",
      "Census_OSInstallTypeName done\n",
      "Census_OSSkuName done\n",
      "Census_OSVersion done\n",
      "Census_OSWUAutoUpdateOptionsName done\n",
      "Census_PowerPlatformRoleName done\n",
      "Census_PrimaryDiskTypeName done\n",
      "Census_ProcessorClass done\n",
      "EngineVersion done\n",
      "OsBuildLab done\n",
      "OsPlatformSubRelease done\n",
      "OsVer done\n",
      "Platform done\n",
      "Processor done\n",
      "ProductName done\n",
      "PuaMode done\n",
      "SkuEdition done\n",
      "SmartScreen done\n",
      "CPU times: user 17min 52s, sys: 5min 32s, total: 23min 25s\n",
      "Wall time: 6min 43s\n"
     ]
    }
   ],
   "source": [
    "%%time\n",
    "start = time.time()\n",
    "\n",
    "dtr = pd.read_csv(tr_path)\n",
    "dte = pd.read_csv(te_path)\n",
    "\n",
    "N = dtr.shape[0]\n",
    "df = pd.concat([dtr,dte],axis=0).reset_index(drop=True)\n",
    "\n",
    "for col in df.columns:\n",
    "    if col != IDCOL and df[col].dtype=='O':\n",
    "        df[col],_ = df[col].factorize()\n",
    "        print(col,'done')\n",
    "        \n",
    "dtr,dte = df.iloc[:N].reset_index(drop=True),df.iloc[N:].reset_index(drop=True)\n",
    "timing_cpu[step] = time.time()-start"
   ]
  },
  {
   "cell_type": "markdown",
   "metadata": {},
   "source": [
    "### Count encoding"
   ]
  },
  {
   "cell_type": "markdown",
   "metadata": {},
   "source": [
    "#### GPU"
   ]
  },
  {
   "cell_type": "code",
   "execution_count": 9,
   "metadata": {},
   "outputs": [
    {
     "name": "stdout",
     "output_type": "stream",
     "text": [
      "CPU times: user 6.13 s, sys: 972 ms, total: 7.1 s\n",
      "Wall time: 3.26 s\n"
     ]
    }
   ],
   "source": [
    "%%time\n",
    "start = time.time()\n",
    "step = \"count encode\"\n",
    "\n",
    "count_cols = ['CityIdentifier', 'Census_OSBuildRevision', 'Census_TotalPhysicalRAM']\n",
    "N = len(gtr)\n",
    "gtr1,gte1 = gtr[count_cols],gte[count_cols]\n",
    "gtr1,gte1 = reset_col_dtype(gtr1,gte1)\n",
    "df = gd.concat([gtr1,gte1])\n",
    "del gtr1,gte1\n",
    "\n",
    "df = count_encode(df,count_cols)\n",
    "data = df.to_pandas().values\n",
    "del df\n",
    "count_tr,count_te = data[:N],data[N:]\n",
    "count_cols = ['count_%s'%i for i in count_cols]\n",
    "\n",
    "timing_gpu[step] = time.time()-start"
   ]
  },
  {
   "cell_type": "markdown",
   "metadata": {},
   "source": [
    "#### CPU"
   ]
  },
  {
   "cell_type": "code",
   "execution_count": 10,
   "metadata": {},
   "outputs": [
    {
     "name": "stdout",
     "output_type": "stream",
     "text": [
      "CPU times: user 1min 21s, sys: 8.28 s, total: 1min 29s\n",
      "Wall time: 12.6 s\n"
     ]
    }
   ],
   "source": [
    "%%time\n",
    "start = time.time()\n",
    "\n",
    "cols = ['CityIdentifier', 'Census_OSBuildRevision', 'Census_TotalPhysicalRAM']\n",
    "N = len(gtr)\n",
    "N = len(dtr)\n",
    "dtr1,dte1 = dtr[cols],dte[cols]\n",
    "df = pd.concat([dtr1,dte1],axis=0)\n",
    "\n",
    "df = count_encode_cpu(df,cols)\n",
    "data = df.values\n",
    "count_tr_cpu,count_te_cpu = data[:N],data[N:]\n",
    "\n",
    "timing_cpu[step] = time.time()-start"
   ]
  },
  {
   "cell_type": "markdown",
   "metadata": {},
   "source": [
    "### Target encoding"
   ]
  },
  {
   "cell_type": "markdown",
   "metadata": {},
   "source": [
    "#### GPU"
   ]
  },
  {
   "cell_type": "code",
   "execution_count": 11,
   "metadata": {},
   "outputs": [
    {
     "name": "stdout",
     "output_type": "stream",
     "text": [
      "CPU times: user 6.57 s, sys: 824 ms, total: 7.39 s\n",
      "Wall time: 1.74 s\n"
     ]
    }
   ],
   "source": [
    "%%time\n",
    "start = time.time()\n",
    "step = \"target encode\"\n",
    "\n",
    "mtr_cols = ['SmartScreen']\n",
    "gtr1 = gtr[mtr_cols+[YCOL]] \n",
    "gte1 = gte[mtr_cols]\n",
    "\n",
    "gtr1,gte1 = mtr_encode(gtr1,gte1,mtr_cols)\n",
    "mtr_tr,mtr_te = gtr1.to_pandas(),gte1.to_pandas()\n",
    "mtr_cols = [i for i in mtr_tr.columns]\n",
    "mtr_tr,mtr_te = mtr_tr.values,mtr_te.values\n",
    "del gtr1,gte1\n",
    "\n",
    "timing_gpu[step] = time.time()-start"
   ]
  },
  {
   "cell_type": "markdown",
   "metadata": {},
   "source": [
    "#### CPU"
   ]
  },
  {
   "cell_type": "code",
   "execution_count": 12,
   "metadata": {},
   "outputs": [
    {
     "name": "stdout",
     "output_type": "stream",
     "text": [
      "CPU times: user 1min 57s, sys: 9.13 s, total: 2min 6s\n",
      "Wall time: 10.1 s\n"
     ]
    }
   ],
   "source": [
    "%%time\n",
    "start = time.time()\n",
    "\n",
    "cols = ['SmartScreen']\n",
    "dtr1 = dtr[cols+[YCOL]] \n",
    "dte1 = dte[cols]\n",
    "\n",
    "dtr1,dte1 = mtr_encode_cpu(dtr1,dte1,cols)\n",
    "mtr_tr_cpu,mtr_te_cpu = dtr1.values,dte1.values\n",
    "\n",
    "timing_cpu[step] = time.time()-start"
   ]
  },
  {
   "cell_type": "markdown",
   "metadata": {},
   "source": [
    "#### target encode on gpu will be much faster if the column has many levels. Unfortunately 'SmartScreen' only has several levels."
   ]
  },
  {
   "cell_type": "markdown",
   "metadata": {},
   "source": [
    "### remove columns & combine all features"
   ]
  },
  {
   "cell_type": "markdown",
   "metadata": {},
   "source": [
    "#### GPU "
   ]
  },
  {
   "cell_type": "code",
   "execution_count": 13,
   "metadata": {},
   "outputs": [
    {
     "name": "stdout",
     "output_type": "stream",
     "text": [
      "(8921483, 81) (7853253, 81)\n",
      "CPU times: user 3min 6s, sys: 1min 44s, total: 4min 50s\n",
      "Wall time: 10.2 s\n"
     ]
    }
   ],
   "source": [
    "%%time\n",
    "start = time.time()\n",
    "step = \"combine\"\n",
    "\n",
    "badcols = ['PuaMode','OsSuite','ProductName','SmartScreen']\n",
    "y = gtr[YCOL].to_pandas().values\n",
    "\n",
    "gtr = rm_cols(gtr,[IDCOL,YCOL]+badcols)\n",
    "gte = rm_cols(gte,[IDCOL,YCOL]+badcols)\n",
    "\n",
    "tr = gtr.to_pandas()\n",
    "te = gte.to_pandas()\n",
    "\n",
    "cols = [i for i in tr.columns]\n",
    "tr,te = tr.values,te.values\n",
    "\n",
    "train = np.hstack([tr,count_tr,mtr_tr])\n",
    "test = np.hstack([te,count_te,mtr_te])\n",
    "feature_names = cols + count_cols + mtr_cols\n",
    "\n",
    "print(train.shape, test.shape)\n",
    "#print(cols)\n",
    "timing_gpu[step] = time.time()-start"
   ]
  },
  {
   "cell_type": "markdown",
   "metadata": {},
   "source": [
    "#### CPU"
   ]
  },
  {
   "cell_type": "code",
   "execution_count": 14,
   "metadata": {},
   "outputs": [
    {
     "name": "stdout",
     "output_type": "stream",
     "text": [
      "(8921483, 81) (7853253, 81)\n",
      "CPU times: user 40 s, sys: 49 s, total: 1min 28s\n",
      "Wall time: 17.7 s\n"
     ]
    }
   ],
   "source": [
    "%%time\n",
    "start = time.time()\n",
    "\n",
    "badcols = ['PuaMode','OsSuite','ProductName','SmartScreen']\n",
    "usecols = [i for i in dtr.columns if i not in badcols+[IDCOL,YCOL]]\n",
    "dtr = dtr[usecols].values\n",
    "dte = dte[usecols].values\n",
    "\n",
    "train_cpu = np.hstack([dtr,count_tr_cpu,mtr_tr_cpu])\n",
    "test_cpu = np.hstack([dte,count_te_cpu,mtr_te_cpu])\n",
    "\n",
    "print(train_cpu.shape, test_cpu.shape)\n",
    "#print(cols)\n",
    "timing_cpu[step] = time.time()-start"
   ]
  },
  {
   "cell_type": "code",
   "execution_count": 15,
   "metadata": {},
   "outputs": [],
   "source": [
    "xgb_cpu_params =  {\n",
    "        'objective': 'binary:logistic',\n",
    "        'tree_method': 'hist',\n",
    "        'eta':0.1,\n",
    "        'nthread': 16,\n",
    "        'max_depth': 10,\n",
    "        'silent':1,\n",
    "        'subsample':0.8,\n",
    "        'colsample_bytree': 0.7,\n",
    "        'min_child_weight':10,\n",
    "        'eval_metric':'auc',\n",
    "}\n",
    "\n",
    "xgb_gpu_params = xgb_cpu_params.copy()\n",
    "xgb_gpu_params.update({'tree_method': 'gpu_hist',})"
   ]
  },
  {
   "cell_type": "markdown",
   "metadata": {},
   "source": [
    "### Train & Predict"
   ]
  },
  {
   "cell_type": "markdown",
   "metadata": {},
   "source": [
    "#### GPU"
   ]
  },
  {
   "cell_type": "code",
   "execution_count": 16,
   "metadata": {},
   "outputs": [
    {
     "name": "stdout",
     "output_type": "stream",
     "text": [
      "fold 0 done\n",
      "fold 1 done\n",
      "fold 2 done\n",
      "fold 3 done\n",
      "CPU times: user 6min 48s, sys: 3min 35s, total: 10min 24s\n",
      "Wall time: 10min 17s\n"
     ]
    }
   ],
   "source": [
    "%%time\n",
    "start = time.time()\n",
    "step = \"train & predict\"\n",
    "\n",
    "\n",
    "pred = 0\n",
    "kf = KFold(n_splits=4, shuffle=True, random_state=42)\n",
    "for i,(train_index, test_index) in enumerate(kf.split(train)):\n",
    "    y_train,y_test = y[train_index],y[test_index]\n",
    "    X_train,X_test = train[train_index],train[test_index]\n",
    "    watchlist = ()\n",
    "    dtrain = xgb.DMatrix(data=X_train, label=y_train, feature_names=feature_names)\n",
    "    dtest = xgb.DMatrix(data=test, feature_names=feature_names)\n",
    "    clf = xgb.train(xgb_gpu_params, dtrain=dtrain,\n",
    "                num_boost_round=500,evals=watchlist,\n",
    "                early_stopping_rounds=None,maximize=True,\n",
    "                verbose_eval=100)\n",
    "    pred += clf.predict(dtest)\n",
    "    print('fold',i,'done')\n",
    "pred /= (i+1)\n",
    "\n",
    "timing_gpu[step] = time.time()-start"
   ]
  },
  {
   "cell_type": "markdown",
   "metadata": {},
   "source": [
    "#### CPU"
   ]
  },
  {
   "cell_type": "code",
   "execution_count": 17,
   "metadata": {},
   "outputs": [
    {
     "name": "stdout",
     "output_type": "stream",
     "text": [
      "fold 0 done\n",
      "fold 1 done\n",
      "fold 2 done\n",
      "fold 3 done\n",
      "CPU times: user 8h 11min 58s, sys: 22min 38s, total: 8h 34min 37s\n",
      "Wall time: 34min 15s\n"
     ]
    }
   ],
   "source": [
    "%%time\n",
    "start = time.time()\n",
    "\n",
    "pred_cpu = 0\n",
    "kf = KFold(n_splits=4, shuffle=True, random_state=42)\n",
    "for i,(train_index, test_index) in enumerate(kf.split(train_cpu)):\n",
    "    y_train,y_test = y[train_index],y[test_index]\n",
    "    X_train,X_test = train_cpu[train_index],train_cpu[test_index]\n",
    "    watchlist = ()\n",
    "    dtrain = xgb.DMatrix(data=X_train, label=y_train, feature_names=feature_names)\n",
    "    dtest = xgb.DMatrix(data=test_cpu, feature_names=feature_names)\n",
    "    clf = xgb.train(xgb_cpu_params, dtrain=dtrain,\n",
    "                num_boost_round=500,evals=watchlist,\n",
    "                early_stopping_rounds=None,maximize=True,\n",
    "                verbose_eval=100)\n",
    "    pred_cpu += clf.predict(dtest)\n",
    "    print('fold',i,'done')\n",
    "pred_cpu /= (i+1)\n",
    "\n",
    "timing_cpu[step] = time.time()-start"
   ]
  },
  {
   "cell_type": "markdown",
   "metadata": {},
   "source": [
    "### Summary"
   ]
  },
  {
   "cell_type": "code",
   "execution_count": 18,
   "metadata": {},
   "outputs": [],
   "source": [
    "#sub = pd.read_csv('%s/sample_submission.csv'%PATH)\n",
    "#sub[YCOL] = pred\n",
    "#sub.to_csv('rapids_sub.csv.gz',index=False,compression='gzip')"
   ]
  },
  {
   "cell_type": "code",
   "execution_count": 19,
   "metadata": {},
   "outputs": [
    {
     "data": {
      "text/plain": [
       "617.4223990440369"
      ]
     },
     "execution_count": 19,
     "metadata": {},
     "output_type": "execute_result"
    }
   ],
   "source": [
    "timing_gpu['train & predict']"
   ]
  },
  {
   "cell_type": "code",
   "execution_count": 20,
   "metadata": {},
   "outputs": [],
   "source": [
    "steps = ['read data & label encode','count encode','target encode','combine','train & predict']\n",
    "timing_gpu['Overall'] = sum([timing_gpu[i] for i in steps])\n",
    "steps.append('Overall')\n",
    "gpu_time = [timing_gpu[i] for i in steps]"
   ]
  },
  {
   "cell_type": "code",
   "execution_count": 21,
   "metadata": {},
   "outputs": [
    {
     "data": {
      "text/plain": [
       "<matplotlib.axes._subplots.AxesSubplot at 0x7f0fcd6fd6d8>"
      ]
     },
     "execution_count": 21,
     "metadata": {},
     "output_type": "execute_result"
    },
    {
     "data": {
      "image/png": "[encoded data removed]",
      "text/plain": [
       "<Figure size 1440x360 with 1 Axes>"
      ]
     },
     "metadata": {
      "needs_background": "light"
     },
     "output_type": "display_data"
    }
   ],
   "source": [
    "timing_cpu['Overall'] = sum([timing_cpu[i] for i in steps[:-1]])\n",
    "speedup = [timing_cpu[i]/timing_gpu[i] for i in steps]\n",
    "df = pd.DataFrame({'steps':steps, 'speedup':speedup})\n",
    "df.plot.bar(x='steps', y='speedup', rot=0, figsize=(20,5), fontsize=15, title='GPU Speedup')"
   ]
  },
  {
   "cell_type": "code",
   "execution_count": 22,
   "metadata": {},
   "outputs": [
    {
     "data": {
      "text/plain": [
       "<matplotlib.axes._subplots.AxesSubplot at 0x7f12919d4048>"
      ]
     },
     "execution_count": 22,
     "metadata": {},
     "output_type": "execute_result"
    },
    {
     "data": {
      "image/png": "[encoded data removed]",
      "text/plain": [
       "<Figure size 1440x360 with 1 Axes>"
      ]
     },
     "metadata": {
      "needs_background": "light"
     },
     "output_type": "display_data"
    }
   ],
   "source": [
    "cpu_time = [timing_cpu[i] for i in steps]\n",
    "df = pd.DataFrame({'GPU': gpu_time,'CPU': cpu_time}, index=steps)\n",
    "df.plot.bar(rot=0,figsize=(20,5), fontsize=15, title='Running time: seconds')"
   ]
  }
 ],
 "metadata": {
  "kernelspec": {
   "display_name": "Python 3",
   "language": "python",
   "name": "python3"
  },
  "language_info": {
   "codemirror_mode": {
    "name": "ipython",
    "version": 3
   },
   "file_extension": ".py",
   "mimetype": "text/x-python",
   "name": "python",
   "nbconvert_exporter": "python",
   "pygments_lexer": "ipython3",
   "version": "3.6.8"
  }
 },
 "nbformat": 4,
 "nbformat_minor": 2
}
