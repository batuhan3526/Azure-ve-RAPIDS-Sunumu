{
 "cells": [
  {
   "cell_type": "markdown",
   "id": "345c79b0-1d30-4d32-bfa8-08ae5ba38eec",
   "metadata": {},
   "source": [
    "# **Parallel CPU Numerical Computing: Numba ```prange```**"
   ]
  },
  {
   "cell_type": "markdown",
   "id": "4f177f98-168c-44da-add3-873eda5606cb",
   "metadata": {},
   "source": [
    "## **Prerequisites**"
   ]
  },
  {
   "cell_type": "markdown",
   "id": "baaedb9a-dc20-4540-8dd1-a9dd64e67693",
   "metadata": {},
   "source": [
    "This tutorial assumes proficiency in Python and the following libraries:\n",
    "\n",
    "* NumPy\n",
    "* Numba\n",
    "\n",
    "Demo System - Benchmarking was performed on a DGX Station A100 320GB"
   ]
  },
  {
   "cell_type": "markdown",
   "id": "2105b8ea-52a5-462b-8ffa-a25376e28587",
   "metadata": {},
   "source": [
    "## **Why Numba + ```prange```?**"
   ]
  },
  {
   "cell_type": "markdown",
   "id": "0be81858-2ee7-44c0-99d6-388ecae7c089",
   "metadata": {},
   "source": [
    "Numba translates Python functions to optimized machine code at runtime using the industry-standard LLVM compiler library. Numba-compiled numerical algorithms in Python can approach the speeds of C or FORTRAN.\n",
    "\n",
    "CPU parallelism is also very accessible.  Numba provides a ```range``` drop-in replacement called ```prange``` that automatically distributes work in for loops to all CPU cores on a local machine.\n",
    "\n",
    "**When to consider this programming pattern:**\n",
    "1. You want an easy on-ramp to parallel CPU computing with a performant framework\n",
    "2. You need higher performance than your single threaded implementation and you do not have GPUs"
   ]
  },
  {
   "cell_type": "markdown",
   "id": "89e9e212-e06e-4db1-8569-1ce71d1dc7c5",
   "metadata": {},
   "source": [
    "## **Problem Overview**"
   ]
  },
  {
   "cell_type": "markdown",
   "id": "d8e4ced4-895e-470b-a806-45525f8f91c5",
   "metadata": {},
   "source": [
    "In this notebook, We leverage a proxy geospatial nearest neighbor problem to guide us through an evaluation of the Numba's built in CPU multi-processing capability using ```prange```. In this use case, we aim to resolve geospatial observations to their nearest reference points with an added complexity. Our complication adds dynamics to the problem allowing each reference point to move and the set of observations to change on a reoccurring basis. These complexities imply a need to recompute each nearest neighbor at each timestep -- emphasizing the need for high performance techiques. \n",
    "\n",
    "Because of its simplicity and arithmetic intensity, we focus our attention on the brute force nearest neighbor technique using the haversine great circle distance formula as our distance metric. This is a popular formula used to calculate the distance between two points on earth.\n",
    "\n",
    "<center><a href=\"https://en.wikipedia.org/wiki/Haversine_formula\"><img src=\"./media/haversine-graphic.png\" alt=\"Haversine\" style=\"width: 150;\"></a></center></br>\n",
    "\n",
    "The graphic below illustrates the dynamic nature of our problem. From left to write, we can observe the dynamics of the system at each timestep -- with colored regions representing nearest neighbor decision boundaries for each reference point and points representing observations.\n",
    "\n",
    "<center><img src=\"./media/DynamicDecisionBoundaries.png\" alt=\"Visualization\" style=\"width: 1000;\"/></center>\n",
    "\n",
    "In this notebook, we will use all available CPU resources (64 cores, 128 threads) on a problem scaled up by 2048x - 8.8T\n",
    "\n",
    "**Spoiler Alert -- The GPU techniques each out perform this CPU technique by a long shot.**\n",
    "\n",
    "Because many of the CPU functions take so long, we use the ```%%time``` magic function and comment out ```%%timeit``` to generate benchmarks.\n",
    "\n",
    "Since this CPU technique will take a very long time to complete (hours on a DGX Station A100 320GB), were provide an overview of the expected performance measured on a DGX Station A100.\n",
    "\n",
    "<center><img src=\"./media/AllScaledCpuGpuPerfTable.png\" alt=\"PerfTable\" style=\"width: 1000;\"/></center>"
   ]
  },
  {
   "cell_type": "markdown",
   "id": "043c3444-9b41-4570-8633-344c8d81c0ef",
   "metadata": {},
   "source": [
    " # **Multi-CPU Experiment**"
   ]
  },
  {
   "cell_type": "code",
   "execution_count": null,
   "id": "11688d32-5a0f-49bc-9860-2f8fc06ccec8",
   "metadata": {},
   "outputs": [],
   "source": [
    "from src.solvers import numba_cpu_haversine\n",
    "from src.simulator import generate_geos\n",
    "from src.utils import check_accuracy\n",
    "\n",
    "from numba import jit, prange\n",
    "import numpy as np\n",
    "import math"
   ]
  },
  {
   "cell_type": "markdown",
   "id": "2e3cf09c-2422-426d-a2c4-d56945032ed9",
   "metadata": {},
   "source": [
    "Define constants for the size of our experiment and evaluation criteria."
   ]
  },
  {
   "cell_type": "code",
   "execution_count": null,
   "id": "ebaa369f-2052-4ec4-b389-a3b2f917f933",
   "metadata": {},
   "outputs": [],
   "source": [
    "N_OBS, N_REF = 2**27, 2**16 # single processor experiment\n",
    "N_OBS_VAL, N_REF_VAL = 500, 200 # check accuracy\n",
    "print(\"Problem Size (N_OBS * N_REF): {:.2f}T\".format(N_OBS * N_REF * 1e-12))"
   ]
  },
  {
   "cell_type": "markdown",
   "id": "bdfc1610-4b98-405f-9a43-4774ced58e16",
   "metadata": {},
   "source": [
    "## **Numba Multi-CPU Kernel**"
   ]
  },
  {
   "cell_type": "markdown",
   "id": "9d418db6-cfaf-4e43-9258-2c6d38248042",
   "metadata": {},
   "source": [
    "Define a JIT function to perform our nearest neighbor calculation. This function adds a ```parallel=True``` argument and leverages the ```prange``` drop-in replacement for ```range``` for an easy on-ramp to performant parallel CPU computing."
   ]
  },
  {
   "cell_type": "code",
   "execution_count": null,
   "id": "524c4a4d-6d26-4488-b664-f7296d969e38",
   "metadata": {},
   "outputs": [],
   "source": [
    "@jit(nopython=True, parallel=True)\n",
    "def get_nearest(a, b):\n",
    "    \n",
    "    out_idx = np.empty(\n",
    "        (a.shape[0]), dtype=np.uint32)\n",
    "    \n",
    "    out_dist = np.empty(\n",
    "        (a.shape[0]), dtype=np.float32)\n",
    "    \n",
    "    for obs_idx in prange(a.shape[0]):\n",
    "        \n",
    "        glob_min_dist = 1e11\n",
    "        glob_min_idx = 0\n",
    "        \n",
    "        for ref_idx in range(b.shape[0]):\n",
    "            \n",
    "            temp_dist = numba_cpu_haversine(\n",
    "                a[obs_idx,0],\n",
    "                a[obs_idx, 1],\n",
    "                b[ref_idx, 0],\n",
    "                b[ref_idx, 1])\n",
    "            \n",
    "            if temp_dist < glob_min_dist:\n",
    "                glob_min_dist = temp_dist\n",
    "                glob_min_idx = ref_idx\n",
    "        \n",
    "        out_dist[obs_idx] = glob_min_dist\n",
    "        out_idx[obs_idx] = glob_min_idx\n",
    "        \n",
    "    return out_idx, out_dist"
   ]
  },
  {
   "cell_type": "markdown",
   "id": "64a88e1c-50ac-42f7-8b1c-b24779b03fc3",
   "metadata": {},
   "source": [
    "## **Generate Dataset**"
   ]
  },
  {
   "cell_type": "markdown",
   "id": "f371c777-dc5b-4a38-a902-d192b308da21",
   "metadata": {},
   "source": [
    "Let's generate a scaled up synthetic dataset and validation dataset for our work today using an included utility function. These datasets represent the following:\n",
    "\n",
    "* ```h_obs``` contains ```N_OBS``` geospatial observations in radians copied to the host from the GPU, used for our full scale benchmark\n",
    "* ```h_ref``` contains ```N_REF``` geospatial reference points in radians copied to the host from the GPU, used for our full scale benchmark\n",
    "* ```h_obs_val``` contains ```N_OBS_VAL``` geospatial observations in radians copied to the host from the GPU, used to validate accuracy\n",
    "* ```h_ref_val``` contains ```N_REF_VAL``` of geospatial reference points in radians copied to the host from the GPU, used to validate accuracy"
   ]
  },
  {
   "cell_type": "code",
   "execution_count": null,
   "id": "7ec45c02-9eab-4496-9e0d-bb238c664ab9",
   "metadata": {},
   "outputs": [],
   "source": [
    "h_ref = generate_geos(N_REF, random_state=1).get()\n",
    "h_obs = generate_geos(N_OBS, random_state=2).get()\n",
    "\n",
    "h_ref_val = generate_geos(N_REF_VAL, random_state=1).get()\n",
    "h_obs_val = generate_geos(N_OBS_VAL, random_state=2).get()"
   ]
  },
  {
   "cell_type": "markdown",
   "id": "b9f154ec-8f07-45ed-a3df-411b231f7e10",
   "metadata": {},
   "source": [
    "## **Validate Accuracy**"
   ]
  },
  {
   "cell_type": "markdown",
   "id": "81ffa97b-5ecb-4da6-a28f-d23fa2687413",
   "metadata": {},
   "source": [
    "Verify our multi-GPU implementation is producing the correct results."
   ]
  },
  {
   "cell_type": "code",
   "execution_count": null,
   "id": "de05a34f-59ad-438b-b60f-8909acb37284",
   "metadata": {},
   "outputs": [],
   "source": [
    "h_val_idx, h_val_dist = get_nearest(\n",
    "    h_obs_val, \n",
    "    h_ref_val\n",
    ")\n",
    "\n",
    "print(\"Accuracy - Numba CUDA Single GPU:\", \n",
    "      check_accuracy(\n",
    "          h_obs_val, \n",
    "          h_ref_val,\n",
    "          h_val_idx, \n",
    "          h_val_dist)\n",
    "     )"
   ]
  },
  {
   "cell_type": "markdown",
   "id": "d5551908-73ab-4ee5-a117-c6a7ddcc9345",
   "metadata": {},
   "source": [
    "## **Benchmark Performance**"
   ]
  },
  {
   "cell_type": "markdown",
   "id": "e032e354-7c5f-4dc9-a72e-4e9985fa5561",
   "metadata": {},
   "source": [
    "We observe our parallel kernel completes in roughly 2hrs 3min 31s on the demo system, hundreds of times slower than the multi-GPU alternatives!"
   ]
  },
  {
   "cell_type": "code",
   "execution_count": null,
   "id": "49284b34-0376-4a8d-9d6f-661361780de9",
   "metadata": {},
   "outputs": [],
   "source": [
    "%%time\n",
    "#%%timeit\n",
    "h_val_idx, h_val_dist = get_nearest(\n",
    "    h_obs, \n",
    "    h_ref\n",
    ")"
   ]
  },
  {
   "cell_type": "markdown",
   "id": "87eb5faa-8d3c-40b5-a400-13d85db616d4",
   "metadata": {},
   "source": [
    "# **Summarize Results**"
   ]
  },
  {
   "cell_type": "markdown",
   "id": "5e0913e4-16b1-4b7f-83a3-ec0a11b69b3d",
   "metadata": {},
   "source": [
    "In summary, we observe our multi-processing CPU technique solves our full scale problem much faster than the single threaded technique, however, its still orders of magnitude slower than our Multi-GPU techniques.\n",
    "\n",
    "<img src=\"./media/MultiScaledCpuGpuPerfTable.png\" alt=\"PerfTable\" style=\"width: 150;\"/>"
   ]
  },
  {
   "cell_type": "markdown",
   "id": "2444b3b7-4b87-417f-889c-aa4e7aae07f5",
   "metadata": {
    "tags": []
   },
   "source": [
    "<br>\n",
    "<div align=\"left\"><h2><b>Please Restart the Kernel<b></h2></div>"
   ]
  },
  {
   "cell_type": "code",
   "execution_count": null,
   "id": "00f40341-3b7a-4303-bb97-4e1064229162",
   "metadata": {},
   "outputs": [],
   "source": [
    "import IPython\n",
    "app = IPython.Application.instance()\n",
    "app.kernel.do_shutdown(True)"
   ]
  }
 ],
 "metadata": {
  "kernelspec": {
   "display_name": "Python 3 (ipykernel)",
   "language": "python",
   "name": "python3"
  },
  "language_info": {
   "codemirror_mode": {
    "name": "ipython",
    "version": 3
   },
   "file_extension": ".py",
   "mimetype": "text/x-python",
   "name": "python",
   "nbconvert_exporter": "python",
   "pygments_lexer": "ipython3",
   "version": "3.9.10"
  }
 },
 "nbformat": 4,
 "nbformat_minor": 5
}
